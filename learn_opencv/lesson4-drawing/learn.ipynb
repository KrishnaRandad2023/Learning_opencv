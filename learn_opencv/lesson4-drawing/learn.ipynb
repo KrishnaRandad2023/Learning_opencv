{
 "cells": [
  {
   "cell_type": "code",
   "execution_count": 13,
   "metadata": {},
   "outputs": [],
   "source": [
    "import cv2\n",
    "cap = cv2.VideoCapture(0)\n",
    "while(True):\n",
    "  ret,frame = cap.read()\n",
    "  width = int(cap.get(3))\n",
    "  height = int(cap.get(4))\n",
    "  # img = cv2.line(frame,(0,0),(width,height),(120,140,160),20)\n",
    "  # img = cv2.line(frame,(width,0),(0,height),(120,140,160),20)\n",
    "  # img = cv2.rectangle(frame,(200,200),(400,400),(1,1,1),-1)\n",
    "  # img = cv2.circle(frame,(300,300),60,(0,0,255),-1)\n",
    "  font  =  cv2.FONT_HERSHEY_SIMPLEX\n",
    "  img = cv2.putText(frame,'this is krishna',(100,200),font,1,(1,1,1),10)\n",
    "  cv2.imshow('video',img)\n",
    "  if cv2.waitKey(1)==ord('T'):\n",
    "    break\n",
    "   \n",
    "  \n",
    "cap.release()\n",
    "cv2.destroyAllWindows()"
   ]
  }
 ],
 "metadata": {
  "kernelspec": {
   "display_name": "Python 3",
   "language": "python",
   "name": "python3"
  },
  "language_info": {
   "codemirror_mode": {
    "name": "ipython",
    "version": 3
   },
   "file_extension": ".py",
   "mimetype": "text/x-python",
   "name": "python",
   "nbconvert_exporter": "python",
   "pygments_lexer": "ipython3",
   "version": "3.12.5"
  }
 },
 "nbformat": 4,
 "nbformat_minor": 2
}
