{
 "cells": [
  {
   "cell_type": "code",
   "execution_count": 1,
   "metadata": {},
   "outputs": [],
   "source": [
    "import cv2\n",
    "import numpy as np\n",
    "cap = cv2.VideoCapture(0)\n",
    "\n",
    "while(True):\n",
    "  ret,frame = cap.read()\n",
    "  width = int(cap.get(3))\n",
    "  height = int(cap.get(4))\n",
    "\n",
    "  \n",
    "  #we can also pass a \n",
    "  hsv = cv2.cvtColor(frame,cv2.COLOR_BGR2HSV)\n",
    "  \n",
    "  lower_color = np.array([90,50,50])\n",
    "  upper_color = np.array([130,255,255])\n",
    "  \n",
    "  mask = cv2.inRange(hsv,lower_color,upper_color)\n",
    "  \n",
    "  result = cv2.bitwise_and(frame,frame,mask=mask)\n",
    "  cv2.imshow('Screen',mask)\n",
    "  cv2.imshow('Screen1',result)\n",
    "  if cv2.waitKey(1)==ord('t'):\n",
    "    break\n",
    "  \n",
    "cap.release()\n",
    "cv2.destroyAllWindows()"
   ]
  }
 ],
 "metadata": {
  "kernelspec": {
   "display_name": "Python 3",
   "language": "python",
   "name": "python3"
  },
  "language_info": {
   "codemirror_mode": {
    "name": "ipython",
    "version": 3
   },
   "file_extension": ".py",
   "mimetype": "text/x-python",
   "name": "python",
   "nbconvert_exporter": "python",
   "pygments_lexer": "ipython3",
   "version": "3.12.5"
  }
 },
 "nbformat": 4,
 "nbformat_minor": 2
}
