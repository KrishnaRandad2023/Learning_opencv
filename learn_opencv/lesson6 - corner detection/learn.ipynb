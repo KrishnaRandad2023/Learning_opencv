{
 "cells": [
  {
   "cell_type": "code",
   "execution_count": 21,
   "metadata": {},
   "outputs": [],
   "source": [
    "import numpy as np\n",
    "import cv2 \n",
    "\n",
    "img = cv2.imread('corner.jpg')\n",
    "img1 = cv2.cvtColor(img,cv2.COLOR_BGR2GRAY)\n",
    "\n",
    "corners = cv2.goodFeaturesToTrack(img1,8,0.1,3)\n",
    "\n",
    "corners = np.int64(corners)\n",
    "\n",
    "for corner in corners:\n",
    "  x,y  = corner.ravel()\n",
    "  cv2.circle(img,(x,y),10,(1,1,1),-1)  \n",
    "\n",
    "# print(corners) \n",
    "cv2.imshow('image to find corners',img)\n",
    "cv2.waitKey(0)\n",
    "cv2.destroyAllWindows()"
   ]
  },
  {
   "cell_type": "markdown",
   "metadata": {},
   "source": []
  },
  {
   "cell_type": "code",
   "execution_count": 27,
   "metadata": {},
   "outputs": [],
   "source": [
    "import numpy as np\n",
    "import cv2\n",
    "\n",
    "cam = cv2.VideoCapture(0)\n",
    "\n",
    "while(True):\n",
    "  ret, frame = cam.read()\n",
    "  width = int(cam.get(30))\n",
    "  height = int(cam.get(40))\n",
    "  frame1 = cv2.cvtColor(frame,cv2.COLOR_BGR2GRAY)\n",
    "  \n",
    "  corners = cv2.goodFeaturesToTrack(frame1,50,0.01,100)\n",
    "  corners = np.int8(corners)\n",
    "  for corner in corners:\n",
    "    x,y = corner.ravel()\n",
    "    cv2.circle(frame,(x,y),10,(1,1,1),-1)\n",
    "    \n",
    "  cv2.imshow('video',frame)\n",
    "  \n",
    "  if cv2.waitKey(1)==ord('t'):\n",
    "    break\n",
    "\n",
    "cam.release()\n",
    "cv2.destroyAllWindows()"
   ]
  },
  {
   "cell_type": "code",
   "execution_count": 1,
   "metadata": {},
   "outputs": [],
   "source": [
    "import numpy as np\n",
    "import cv2\n",
    "\n",
    "# Initialize the webcam\n",
    "cam = cv2.VideoCapture(0)\n",
    "\n",
    "while True:\n",
    "    # Capture frame-by-frame\n",
    "    ret, frame = cam.read()\n",
    "    \n",
    "    if not ret:\n",
    "        break  # Break the loop if the frame is not captured properly\n",
    "\n",
    "    # Get the width and height of the frame\n",
    "    width = int(cam.get(cv2.CAP_PROP_FRAME_WIDTH))\n",
    "    height = int(cam.get(cv2.CAP_PROP_FRAME_HEIGHT))\n",
    "\n",
    "    # Convert the frame to grayscale\n",
    "    frame1 = cv2.cvtColor(frame, cv2.COLOR_BGR2GRAY)\n",
    "    \n",
    "    # Detect corners in the frame\n",
    "    corners = cv2.goodFeaturesToTrack(frame1, 40, 0.8, 100)\n",
    "    \n",
    "    if corners is not None:  # Check if corners were found\n",
    "        corners = np.int32(corners)  # Convert to integer\n",
    "\n",
    "        # Draw circles at the corner points\n",
    "        for corner in corners:\n",
    "            x, y = corner.ravel()  # Flatten the corner coordinates\n",
    "            cv2.circle(frame, (x, y), 10, (0, 255, 0), -1)  # Draw circles in green color\n",
    "    \n",
    "    # Display the frame with detected corners\n",
    "    cv2.imshow('video', frame)\n",
    "    \n",
    "    # Break the loop when 't' is pressed\n",
    "    if cv2.waitKey(1) == ord('t'):\n",
    "        break\n",
    "\n",
    "# Release the webcam and close all OpenCV windows\n",
    "cam.release()\n",
    "cv2.destroyAllWindows()\n"
   ]
  }
 ],
 "metadata": {
  "kernelspec": {
   "display_name": "Python 3",
   "language": "python",
   "name": "python3"
  },
  "language_info": {
   "codemirror_mode": {
    "name": "ipython",
    "version": 3
   },
   "file_extension": ".py",
   "mimetype": "text/x-python",
   "name": "python",
   "nbconvert_exporter": "python",
   "pygments_lexer": "ipython3",
   "version": "3.12.5"
  }
 },
 "nbformat": 4,
 "nbformat_minor": 2
}
