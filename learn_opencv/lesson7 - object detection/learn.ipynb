{
 "cells": [
  {
   "cell_type": "code",
   "execution_count": 14,
   "metadata": {},
   "outputs": [],
   "source": [
    "import numpy as np \n",
    "import cv2\n",
    "\n",
    "img1 = cv2.imread('football.jpg',0)\n",
    "img2 = cv2.imread('man.jpg',0)\n",
    "main_image =  cv2.imread('full.jpg',0)\n",
    "\n",
    "# main_copy = main_image.copy()\n",
    "\n",
    "h, w = img1.shape\n",
    "\n",
    "\n",
    "methods = [cv2.TM_CCOEFF,cv2.TM_CCOEFF_NORMED,cv2.TM_CCORR,cv2.TM_CCORR_NORMED,cv2.TM_SQDIFF,cv2.TM_SQDIFF_NORMED]\n",
    "\n",
    "for method in methods:\n",
    "  img_copy  = main_image.copy()\n",
    "  result = cv2.matchTemplate(img_copy,img2,method) \n",
    "  min_val , max_val,min_loc,max_loc = cv2.minMaxLoc(result)\n",
    "  \n",
    "  if method in [cv2.TM_SQDIFF,cv2.TM_SQDIFF_NORMED]:\n",
    "    location = min_loc\n",
    "  else:\n",
    "    location = max_loc\n",
    "    \n",
    "  bottom_right = (location[0]+ w,location[1]+h)\n",
    "  cv2.rectangle(img_copy,location,bottom_right,255,5)\n",
    "\n",
    "cv2.imshow('frame',img_copy)\n",
    "cv2.waitKey(0)\n",
    "cv2.destroyAllWindows()\n",
    "\n"
   ]
  },
  {
   "cell_type": "code",
   "execution_count": 16,
   "metadata": {},
   "outputs": [
    {
     "ename": "AttributeError",
     "evalue": "'NoneType' object has no attribute 'shape'",
     "output_type": "error",
     "traceback": [
      "\u001b[1;31m---------------------------------------------------------------------------\u001b[0m",
      "\u001b[1;31mAttributeError\u001b[0m                            Traceback (most recent call last)",
      "Cell \u001b[1;32mIn[16], line 5\u001b[0m\n\u001b[0;32m      3\u001b[0m \u001b[38;5;66;03m# Load the template image\u001b[39;00m\n\u001b[0;32m      4\u001b[0m template \u001b[38;5;241m=\u001b[39m cv2\u001b[38;5;241m.\u001b[39mimread(\u001b[38;5;124m'\u001b[39m\u001b[38;5;124mbhel.jpg\u001b[39m\u001b[38;5;124m'\u001b[39m, \u001b[38;5;241m0\u001b[39m)\n\u001b[1;32m----> 5\u001b[0m h, w \u001b[38;5;241m=\u001b[39m \u001b[43mtemplate\u001b[49m\u001b[38;5;241;43m.\u001b[39;49m\u001b[43mshape\u001b[49m\n\u001b[0;32m      7\u001b[0m \u001b[38;5;66;03m# Open the video file\u001b[39;00m\n\u001b[0;32m      8\u001b[0m cap \u001b[38;5;241m=\u001b[39m cv2\u001b[38;5;241m.\u001b[39mVideoCapture(\u001b[38;5;124m'\u001b[39m\u001b[38;5;124mvideo.mp4\u001b[39m\u001b[38;5;124m'\u001b[39m)\n",
      "\u001b[1;31mAttributeError\u001b[0m: 'NoneType' object has no attribute 'shape'"
     ]
    }
   ],
   "source": [
    "import cv2\n",
    "\n",
    "# Load the template image\n",
    "template = cv2.imread('bhel.jpg', 0)\n",
    "h, w = template.shape\n",
    "\n",
    "# Open the video file\n",
    "cap = cv2.VideoCapture('video.mp4')\n",
    "\n",
    "# Check if the video file opened successfully\n",
    "if not cap.isOpened():\n",
    "    print(\"Error: Could not open video file.\")\n",
    "    exit()\n",
    "\n",
    "while True:\n",
    "    # Read a new frame from the video\n",
    "    ret, frame = cap.read()\n",
    "    \n",
    "    # If the frame was not grabbed, then we've reached the end of the video\n",
    "    if not ret:\n",
    "        break\n",
    "    \n",
    "    # Convert the frame to grayscale\n",
    "    gray_frame = cv2.cvtColor(frame, cv2.COLOR_BGR2GRAY)\n",
    "    \n",
    "    # Perform template matching\n",
    "    result = cv2.matchTemplate(gray_frame, template, cv2.TM_CCOEFF_NORMED)\n",
    "    min_val, max_val, min_loc, max_loc = cv2.minMaxLoc(result)\n",
    "    \n",
    "    # Determine the top-left corner of the matched region\n",
    "    top_left = max_loc\n",
    "    \n",
    "    # Determine the bottom-right corner of the matched region\n",
    "    bottom_right = (top_left[0] + w, top_left[1] + h)\n",
    "    \n",
    "    # Draw a rectangle around the matched region\n",
    "    cv2.rectangle(frame, top_left, bottom_right, (0, 255, 0), 2)\n",
    "    \n",
    "    # Display the frame with the matched region\n",
    "    cv2.imshow('Matched Frame', frame)\n",
    "    \n",
    "    # Exit if the user presses the 'q' key\n",
    "    if cv2.waitKey(1) & 0xFF == ord('q'):\n",
    "        break\n",
    "\n",
    "# Release the video capture object and close all OpenCV windows\n",
    "cap.release()\n",
    "cv2.destroyAllWindows()\n"
   ]
  }
 ],
 "metadata": {
  "kernelspec": {
   "display_name": "Python 3",
   "language": "python",
   "name": "python3"
  },
  "language_info": {
   "codemirror_mode": {
    "name": "ipython",
    "version": 3
   },
   "file_extension": ".py",
   "mimetype": "text/x-python",
   "name": "python",
   "nbconvert_exporter": "python",
   "pygments_lexer": "ipython3",
   "version": "3.12.5"
  }
 },
 "nbformat": 4,
 "nbformat_minor": 2
}
